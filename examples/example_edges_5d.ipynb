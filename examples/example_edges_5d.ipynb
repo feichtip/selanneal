{
 "cells": [
  {
   "cell_type": "code",
   "execution_count": 1,
   "metadata": {
    "collapsed": false,
    "jupyter": {
     "outputs_hidden": false,
     "source_hidden": false
    },
    "nteract": {
     "transient": {
      "deleting": false
     }
    }
   },
   "outputs": [],
   "source": [
    "import importlib\n",
    "import math\n",
    "import os\n",
    "import random\n",
    "import time\n",
    "\n",
    "import numpy as np\n",
    "import boost_histogram as bh\n",
    "import pandas as pd\n",
    "import selanneal\n",
    "from selanneal import annealing\n",
    "\n",
    "# can disable numba, but is much slower\n",
    "# os.environ['DISABLE_NUMBA'] = '1'\n",
    "\n",
    "np.random.seed(42)"
   ]
  },
  {
   "cell_type": "markdown",
   "metadata": {},
   "source": [
    "#### generate some toy data points in 5 dimensions"
   ]
  },
  {
   "cell_type": "code",
   "execution_count": 2,
   "metadata": {
    "collapsed": false,
    "jupyter": {
     "outputs_hidden": false,
     "source_hidden": false
    },
    "nteract": {
     "transient": {
      "deleting": false
     }
    }
   },
   "outputs": [],
   "source": [
    "features = ['A', 'B', 'C', 'D', 'int_var']\n",
    "# features = ['A', 'B']\n",
    "\n",
    "n_dim = len(features)\n",
    "n_sig = 10_000\n",
    "n_bkg = 1_000_000\n",
    "\n",
    "# generated signal events\n",
    "sig_gen = np.random.multivariate_normal(np.zeros(n_dim), np.identity(n_dim), size=n_sig)\n",
    "Ngen = len(sig_gen)\n",
    "\n",
    "# select random subset for reconstructed events\n",
    "rand_10p = np.random.rand(n_sig) > 0.9\n",
    "rand_50p = np.random.rand(n_sig) > 0.5\n",
    "sig_rec = sig_gen[((sig_gen[:, 0] >= 0) & rand_10p) | ((sig_gen[:, 0] < 0) & rand_50p)]\n",
    "\n",
    "# uniform background between -5 and 5\n",
    "bkg_rec = np.random.uniform(- np.ones(n_dim) * 5, np.ones(n_dim) * 5, size=[n_bkg, n_dim])\n",
    "\n",
    "# make int_var boolean\n",
    "sig_rec[:, 4] = np.abs(sig_rec[:, 4]) < 1.5\n",
    "bkg_rec[:, 4] = np.abs(bkg_rec[:, 4]) < 1.5"
   ]
  },
  {
   "cell_type": "markdown",
   "metadata": {},
   "source": [
    "#### create dataframe from generated data"
   ]
  },
  {
   "cell_type": "code",
   "execution_count": 3,
   "metadata": {
    "collapsed": false,
    "jupyter": {
     "outputs_hidden": false,
     "source_hidden": false
    },
    "nteract": {
     "transient": {
      "deleting": false
     }
    }
   },
   "outputs": [],
   "source": [
    "sig_df = pd.DataFrame(sig_rec, columns=features)\n",
    "sig_df['isSignal'] = 1\n",
    "sig_df['weight'] = 1.0\n",
    "\n",
    "bkg_df = pd.DataFrame(bkg_rec, columns=features)\n",
    "bkg_df['isSignal'] = 0\n",
    "bkg_df['weight'] = 2.0  # scale to data lumi\n",
    "\n",
    "df = pd.concat([sig_df, bkg_df], ignore_index=True)\n",
    "\n",
    "\n",
    "def print_cross_check(result):\n",
    "    \"\"\"applies optimised selection and prints FOM/efficiency/purity\"\"\"\n",
    "    query = '(' + ') and ('.join(result[0]) + ')'\n",
    "    print(query)\n",
    "    sig_sel = sig_df.query(query)\n",
    "    bkg_sel = bkg_df.query(query)\n",
    "    print(f'significance FOM: {(sig_sel.shape[0]) / (np.sqrt(sig_sel.shape[0] + bkg_sel.shape[0] * 2.0)):.3f}')\n",
    "    print(f'efficiency: {sig_sel.shape[0] / Ngen:.3f}')\n",
    "    print(f'purity: {sig_sel.shape[0] / (sig_sel.shape[0] + bkg_sel.shape[0] * 2.0):.3f}')"
   ]
  },
  {
   "cell_type": "markdown",
   "metadata": {
    "collapsed": false,
    "jupyter": {
     "outputs_hidden": false,
     "source_hidden": false
    },
    "nteract": {
     "transient": {
      "deleting": false
     }
    }
   },
   "source": [
    "### run the simulated annealing\n",
    "#### maximise Nsig / sqrt(Nsig + Nbkg)"
   ]
  },
  {
   "cell_type": "code",
   "execution_count": 4,
   "metadata": {
    "collapsed": false,
    "jupyter": {
     "outputs_hidden": false,
     "source_hidden": false
    },
    "nteract": {
     "transient": {
      "deleting": false
     }
    }
   },
   "outputs": [
    {
     "name": "stdout",
     "output_type": "stream",
     "text": [
      "Only 0.0 % of new states were accepted in the first iteration. Consider to increase the maximum temperature.\n",
      "best energy = 20.71122196064876\n",
      "\n",
      "(-1.5956 <= A < -0.0003) and (-1.4405 <= B < 1.4222) and (-1.5929 <= C < 1.5361) and (-1.6609 <= D < 1.6222) and (1.0000 <= int_var <= 1.0000)\n",
      "significance FOM: 20.711\n",
      "efficiency: 0.131\n",
      "purity: 0.327\n"
     ]
    }
   ],
   "source": [
    "# reload packages to compile again (in case something unexpected happens)\n",
    "# importlib.reload(selanneal)\n",
    "# importlib.reload(annealing)\n",
    "\n",
    "# need to specify the integer axes and pass the variable name to metadata\n",
    "# integer features should always come last in the passed data array!\n",
    "int_axes = [\n",
    "    bh.axis.IntCategory([0, 1], metadata='int_var'),\n",
    "]\n",
    "\n",
    "result = selanneal.optimise.iterate(df[features].values, df['isSignal'].values, features=features, weight=df['weight'].values,\n",
    "                                    int_axes=int_axes, new_bins=5, Tmin=1E-7, Tmax=1E-2, steps=5_000, quantile=0,  verbosity=0)\n",
    "print(f'best energy = {-result[-1]}\\n')\n",
    "print_cross_check(result)"
   ]
  },
  {
   "cell_type": "markdown",
   "metadata": {},
   "source": [
    "#### maximise purity at fixed efficieny"
   ]
  },
  {
   "cell_type": "code",
   "execution_count": 5,
   "metadata": {
    "collapsed": false,
    "jupyter": {
     "outputs_hidden": false,
     "source_hidden": false
    },
    "nteract": {
     "transient": {
      "deleting": false
     }
    }
   },
   "outputs": [
    {
     "name": "stdout",
     "output_type": "stream",
     "text": [
      "best energy = 0.3945818610129564\n",
      "\n",
      "(-1.4656 <= A < -0.0003) and (-1.0412 <= B < 1.1584) and (-1.5946 <= C < 1.4164) and (-1.3963 <= D < 1.4672) and (1.0000 <= int_var <= 1.0000)\n",
      "significance FOM: 19.914\n",
      "efficiency: 0.101\n",
      "purity: 0.395\n"
     ]
    }
   ],
   "source": [
    "eff_threshold = 0.1\n",
    "result = selanneal.optimise.iterate(df[features].values, df['isSignal'].values, features=features, weight=df['weight'].values,\n",
    "                                    int_axes=int_axes, Nexp=Ngen, eff_threshold=eff_threshold, new_bins=5, Tmin=1E-7, Tmax=1E-2, steps=5_000, quantile=0,  verbosity=0)\n",
    "print(f'best energy = {-result[-1]}\\n')\n",
    "print_cross_check(result)"
   ]
  }
 ],
 "metadata": {
  "kernelspec": {
   "display_name": "work",
   "language": "python",
   "name": "work-env"
  },
  "language_info": {
   "codemirror_mode": {
    "name": "ipython",
    "version": 3
   },
   "file_extension": ".py",
   "mimetype": "text/x-python",
   "name": "python",
   "nbconvert_exporter": "python",
   "pygments_lexer": "ipython3",
   "version": "3.10.12"
  }
 },
 "nbformat": 4,
 "nbformat_minor": 4
}
